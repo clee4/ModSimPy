{
 "cells": [
  {
   "cell_type": "markdown",
   "metadata": {},
   "source": [
    "# HIV MODEL\n",
    "Chris Lee"
   ]
  },
  {
   "cell_type": "code",
   "execution_count": 1,
   "metadata": {},
   "outputs": [],
   "source": [
    "# Configure Jupyter so figures appear in the notebook\n",
    "%matplotlib inline\n",
    "\n",
    "# Configure Jupyter to display the assigned value after an assignment\n",
    "%config InteractiveShell.ast_node_interactivity='last_expr_or_assign'\n",
    "\n",
    "# import functions from the modsim.py module\n",
    "from modsim import *"
   ]
  },
  {
   "cell_type": "code",
   "execution_count": 2,
   "metadata": {},
   "outputs": [],
   "source": [
    "def make_system(alpha, beta, delta, gamma, mu, pi, sigma, tau):\n",
    "    \"\"\"Make a system object for the HIV model.\n",
    "    \n",
    "    alpha: rate at which lymphocytes switch from latent to active\n",
    "    beta:\n",
    "    delta: rate of removal of infected cells\n",
    "    gamma: rate at which new, uninfected CD4 lymphocytes arise\n",
    "    mu: death rate of lymphocytes\n",
    "    pi: free virion production rate\n",
    "    sigma: rate of removal of free virions\n",
    "    tau: proportion of lymphocytes that are activated\n",
    "    \n",
    "    lymphocytes = \n",
    "    latent = system.alpha*l)\n",
    "    active = \n",
    "    virions = \n",
    "    \n",
    "    returns: System object\n",
    "    \"\"\"\n",
    "    init = State(R=1000, L=0, E=0, V=100)\n",
    "    \n",
    "    #R = lymphocyts\n",
    "    #L = Latent Infected\n",
    "    #E = Actively Infected\n",
    "    #V = Free Virions\n",
    "    \n",
    "    t0 = 0\n",
    "    t_end = 120\n",
    "\n",
    "    return System(init=init, t0=t0, t_end=t_end, \n",
    "                  alpha=alpha, beta=beta, \n",
    "                  delta=delta, gamma=gamma, \n",
    "                  mu=mu, pi=pi, sigma=sigma, tau=tau)"
   ]
  },
  {
   "cell_type": "code",
   "execution_count": 3,
   "metadata": {},
   "outputs": [],
   "source": [
    "def update_func(state, t, system):\n",
    "    \"\"\"Update the SIR model.\n",
    "    \n",
    "    state: State (R, L, E, V)\n",
    "    t: time\n",
    "    system: System object\n",
    "    \n",
    "    returns: State (rlev)\n",
    "    \"\"\"\n",
    "    r, l, e, v = state\n",
    "\n",
    "    new_lymphocytes = (system.gamma * e) - (system.mu * R)\n",
    "    infected = system.beta * v\n",
    "    active_infected = (system.alpha * l) + (sytsem.alpha * infected)\n",
    "    free_virions = (system.pi * v) - (system.sigma * v) - infected\n",
    "    \n",
    "    r += new_lymphocytes\n",
    "    l += infected\n",
    "    \n",
    "    return State(R=r, L=l, E=e, V=v)"
   ]
  },
  {
   "cell_type": "code",
   "execution_count": null,
   "metadata": {},
   "outputs": [],
   "source": [
    "def run_simulation(system, update_func):\n",
    "    \"\"\"Runs a simulation of the system.\n",
    "        \n",
    "    system: System object\n",
    "    update_func: function that updates state\n",
    "    \n",
    "    returns: TimeFrame\n",
    "    \"\"\"\n",
    "    unpack(system)\n",
    "    \n",
    "    frame = TimeFrame(columns=init.index)\n",
    "    frame.row[t0] = init\n",
    "    \n",
    "    for t in linrange(t0, t_end):\n",
    "        frame.row[t+1] = update_func(frame.row[t], t, system)\n",
    "    \n",
    "    return frame"
   ]
  }
 ],
 "metadata": {
  "kernelspec": {
   "display_name": "Python 3",
   "language": "python",
   "name": "python3"
  },
  "language_info": {
   "codemirror_mode": {
    "name": "ipython",
    "version": 3
   },
   "file_extension": ".py",
   "mimetype": "text/x-python",
   "name": "python",
   "nbconvert_exporter": "python",
   "pygments_lexer": "ipython3",
   "version": "3.6.6"
  }
 },
 "nbformat": 4,
 "nbformat_minor": 2
}

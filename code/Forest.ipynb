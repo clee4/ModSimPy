{
 "cells": [
  {
   "cell_type": "markdown",
   "metadata": {},
   "source": [
    "# How does human population affect forest area in developed, transitioning, and undeveloped countries?\n",
    "\n",
    "With a graph of human population vs. forest area, we will find a line of best fit based on the quadratic model in order to fit the data as well as possible. It might be the case that another model fits better, but each will be tested. Three distinct models will be created for each country status. Because the data is averaged between numerous countries of each status, significant changes in a particular country will be accounted for. The model will likely providea satisfying explanation and allow for further interpretation of the data to predict future forest area. \n",
    "\n",
    "At a later point, it will be interesting to attempt to account for and predict a change in a country's status to predict overall forest area over time."
   ]
  },
  {
   "cell_type": "markdown",
   "metadata": {},
   "source": [
    "FORESTS THAT WERE PREVIOUSLY FEEEEEEEEEEEEEEEEEEEEEEEEEEEEEEEEEEEEEEEEESH\n",
    "\n",
    "TO DO LIST:\n",
    "3. GET HUMAN POP DATA\n",
    "4. GRAPH CSV FOREST DATA VS HUMAN POP DATA\n",
    "5. COMBINE COUNTRIES BASED ON DEVELOPMENT STATUS\n",
    "6. GRAPH THAT AGAINST HUMAN POPULATION\n",
    "\n",
    "THE GOAL IS TO GET A FINAL GRAPH THAT DEMONSTRATES DEFORESTATION RATES IN RELATION TO A COUNTRY'S DEVELOPMENT STATUS"
   ]
  },
  {
   "cell_type": "code",
   "execution_count": 120,
   "metadata": {},
   "outputs": [],
   "source": [
    "\"\"\"imports necessary functions from modsim and creates a pandas object\"\"\"\n",
    "\n",
    "from modsim import *\n",
    "import pandas as pd"
   ]
  },
  {
   "cell_type": "code",
   "execution_count": 124,
   "metadata": {},
   "outputs": [],
   "source": [
    "\"\"\"gets initial forest data from a spreadsheet\"\"\"\n",
    "\n",
    "data_trees = pd.read_csv(\"ForestP1/forest-area-as-share-of-land-area.csv\", \n",
    "                   names = ['Country', 'Acronym', 'Year', 'Forest Area/Total Land'],\n",
    "                   header = None)"
   ]
  },
  {
   "cell_type": "code",
   "execution_count": 125,
   "metadata": {},
   "outputs": [
    {
     "data": {
      "image/png": "[encoded data removed]",
      "text/plain": [
       "<Figure size 432x288 with 1 Axes>"
      ]
     },
     "metadata": {
      "needs_background": "light"
     },
     "output_type": "display_data"
    }
   ],
   "source": [
    "def condense_to_avg(data, entries_per_country):\n",
    "    \"\"\"\n",
    "    data - table of data for various countries and years\n",
    "    entries_per_country - number of data points per country\n",
    "    \n",
    "    This function will average the data over each year between all the countries\n",
    "    and return a more manageable datafram\n",
    "    \"\"\"\n",
    "    \n",
    "    data_length = len(data['Year'])                          #stores the length of the data\n",
    "\n",
    "    time = TimeSeries()                                      #stores the data averages \n",
    "    \n",
    "    for i in range (entries_per_country):                    #assigns default state to time\n",
    "        time[i] = float(0);\n",
    "\n",
    "    num_of_countries = 0;                                    #keeps track of number of countries to make averages later\n",
    "\n",
    "    for i in range (data_length):                            #loop tracks totals between countries each year\n",
    "        num = i % entries_per_country\n",
    "        \n",
    "        time[num] += data['Forest Area/Total Land'][i]\n",
    "        \n",
    "        if (num == 0):\n",
    "            num_of_countries += 1\n",
    "    \n",
    "    for i in range (entries_per_country):                    #finds the average for each data point\n",
    "        time[i] = time[i]/num_of_countries\n",
    "\n",
    "    averages = {'Year' : data_trees['Year'][0:entries_per_country],            #creates a new, more manageable dataframe\n",
    "                'Population' : time}\n",
    "        \n",
    "    return averages                                          #returns new dataframe\n",
    "\n",
    "data_avg = condense_to_avg(data,5)                           #plots and saves new dataframe\n",
    "\n",
    "plot(data_avg['Year'], data_avg['Population'])\n",
    "\n",
    "decorate(title = 'World Forest Trends',\n",
    "         xlabel = 'Year', \n",
    "         ylabel = 'Percent of Total Area')\n"
   ]
  },
  {
   "cell_type": "code",
   "execution_count": 123,
   "metadata": {},
   "outputs": [],
   "source": [
    "def human_v_trees(human_data, tree_data):\n",
    "    \"\"\"\n",
    "    human_data - a dataframe containing the year vs. human population\n",
    "    tree_data - a dataframe containing the year vs forest area\n",
    "    both have two columns: one called 'Year' and one called 'Population'\n",
    "    \n",
    "    This function will return a dataframe that keeps track of human population vs forest population\n",
    "    \"\"\""
   ]
  },
  {
   "cell_type": "code",
   "execution_count": null,
   "metadata": {},
   "outputs": [],
   "source": []
  },
  {
   "cell_type": "code",
   "execution_count": null,
   "metadata": {},
   "outputs": [],
   "source": []
  },
  {
   "cell_type": "code",
   "execution_count": null,
   "metadata": {},
   "outputs": [],
   "source": []
  }
 ],
 "metadata": {
  "kernelspec": {
   "display_name": "Python 3",
   "language": "python",
   "name": "python3"
  },
  "language_info": {
   "codemirror_mode": {
    "name": "ipython",
    "version": 3
   },
   "file_extension": ".py",
   "mimetype": "text/x-python",
   "name": "python",
   "nbconvert_exporter": "python",
   "pygments_lexer": "ipython3",
   "version": "3.6.6"
  }
 },
 "nbformat": 4,
 "nbformat_minor": 2
}
